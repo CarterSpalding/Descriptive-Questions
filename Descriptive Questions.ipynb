{
 "cells": [
  {
   "cell_type": "markdown",
   "id": "3532beb4",
   "metadata": {},
   "source": [
    "Lists are mutable, tuples are immutable.  Both are used to store multiple items in a single variable.  You create a list by using brackets [] and you create a tuple using parenthesies ()."
   ]
  },
  {
   "cell_type": "code",
   "execution_count": 1,
   "id": "440a324b",
   "metadata": {},
   "outputs": [
    {
     "data": {
      "text/plain": [
       "[1, 2, 3, 4, 5]"
      ]
     },
     "execution_count": 1,
     "metadata": {},
     "output_type": "execute_result"
    }
   ],
   "source": [
    "list1=[1,2,3,4]\n",
    "list1.append(5)\n",
    "list1"
   ]
  },
  {
   "cell_type": "code",
   "execution_count": 7,
   "id": "3f33388f",
   "metadata": {},
   "outputs": [
    {
     "ename": "AttributeError",
     "evalue": "'tuple' object has no attribute 'append'",
     "output_type": "error",
     "traceback": [
      "\u001b[1;31m---------------------------------------------------------------------------\u001b[0m",
      "\u001b[1;31mAttributeError\u001b[0m                            Traceback (most recent call last)",
      "Input \u001b[1;32mIn [7]\u001b[0m, in \u001b[0;36m<cell line: 2>\u001b[1;34m()\u001b[0m\n\u001b[0;32m      1\u001b[0m tuple1\u001b[38;5;241m=\u001b[39m(\u001b[38;5;241m1\u001b[39m,\u001b[38;5;241m2\u001b[39m,\u001b[38;5;241m3\u001b[39m,\u001b[38;5;241m4\u001b[39m)\n\u001b[1;32m----> 2\u001b[0m \u001b[43mtuple1\u001b[49m\u001b[38;5;241;43m.\u001b[39;49m\u001b[43mappend\u001b[49m(\u001b[38;5;241m5\u001b[39m)\n",
      "\u001b[1;31mAttributeError\u001b[0m: 'tuple' object has no attribute 'append'"
     ]
    }
   ],
   "source": [
    "tuple1=(1,2,3,4)\n",
    "tuple1.append(5)"
   ]
  },
  {
   "cell_type": "markdown",
   "id": "71144b2a",
   "metadata": {},
   "source": [
    "Pyhton's key features are that is an interpreter language.  This is different than a compiler language and means that Python reads the first line of code, executes it, and then does the second line and so on till the end of the code"
   ]
  },
  {
   "cell_type": "markdown",
   "id": "daf13175",
   "metadata": {},
   "source": [
    "List comprehension is the ability to create a new list based off of an old list and parameters you set for data in that list. "
   ]
  },
  {
   "cell_type": "code",
   "execution_count": 3,
   "id": "e59e39d7",
   "metadata": {},
   "outputs": [
    {
     "data": {
      "text/plain": [
       "[2, 4, 6, 8]"
      ]
     },
     "execution_count": 3,
     "metadata": {},
     "output_type": "execute_result"
    }
   ],
   "source": [
    "old_list=[1,2,3,4,5,6,7,8,9]\n",
    "new_list=[]\n",
    "for num in old_list:\n",
    "    if num%2==0:\n",
    "        new_list.append(num)\n",
    "new_list"
   ]
  },
  {
   "cell_type": "markdown",
   "id": "239d4690",
   "metadata": {},
   "source": [
    "The most common data types in python are strings, integers, and floating numbers."
   ]
  },
  {
   "cell_type": "code",
   "execution_count": 4,
   "id": "00c3edc3",
   "metadata": {},
   "outputs": [],
   "source": [
    "str=\"This is a string\"\n",
    "int=4\n",
    "float=7.685"
   ]
  },
  {
   "cell_type": "markdown",
   "id": "37d7128b",
   "metadata": {},
   "source": [
    "List slicing in Python is a way to access data within a list quickly in python. You can do this by calling index values."
   ]
  },
  {
   "cell_type": "code",
   "execution_count": 5,
   "id": "f4076a2d",
   "metadata": {},
   "outputs": [
    {
     "data": {
      "text/plain": [
       "[1, 2, 3, 4, 5]"
      ]
     },
     "execution_count": 5,
     "metadata": {},
     "output_type": "execute_result"
    }
   ],
   "source": [
    "list_num=[1,2,3,4,5,6,7,8,9,10]\n",
    "list_num[0:5]"
   ]
  },
  {
   "cell_type": "markdown",
   "id": "86ad3a9d",
   "metadata": {},
   "source": [
    "The reverse keyword is a method in Python that has the ability to reverse the order of a list's index values.  Ex: Index value -1 goes first then -2 and so on. "
   ]
  },
  {
   "cell_type": "code",
   "execution_count": 6,
   "id": "bf9dac15",
   "metadata": {},
   "outputs": [
    {
     "data": {
      "text/plain": [
       "[10, 9, 8, 7, 6, 5, 4, 3, 2, 1]"
      ]
     },
     "execution_count": 6,
     "metadata": {},
     "output_type": "execute_result"
    }
   ],
   "source": [
    "list_num.reverse()\n",
    "list_num"
   ]
  },
  {
   "cell_type": "markdown",
   "id": "18b9ce6b",
   "metadata": {},
   "source": [
    "Global variables are variables set within code that apply no matter the situation automatically unless redefined in a certain case (Ex. in a function).  Local variables are variable that are defined only in a specific instance in code and outside of that instance, go back to their global value. (Ex. in a function)"
   ]
  },
  {
   "cell_type": "markdown",
   "id": "4a4b696d",
   "metadata": {},
   "source": [
    "Python is case sensitive.  It matters in python whether two characters match perfectly when they, or data that they are included in is being compared."
   ]
  },
  {
   "cell_type": "markdown",
   "id": "e8e2e130",
   "metadata": {},
   "source": [
    "Functions are a way to run code by simply inputing variables that you choose in to run within predetermined parameters. "
   ]
  },
  {
   "cell_type": "markdown",
   "id": "daeeafb6",
   "metadata": {},
   "source": [
    "__init__ is the function called to initialize a class.  It is the constructor.  You input your variables into the parenthesies that follow __init__ but self is always the first input into the parenthesies; you do this to represent the instance of the class."
   ]
  },
  {
   "cell_type": "code",
   "execution_count": 9,
   "id": "6bb98d7c",
   "metadata": {},
   "outputs": [],
   "source": [
    "class Hello:\n",
    "    def __init__(self, one, two, three):\n",
    "        self.one=one\n",
    "        self.two=two\n",
    "        self.three=three"
   ]
  },
  {
   "cell_type": "markdown",
   "id": "0db83e14",
   "metadata": {},
   "source": [
    "Self is the representation of the instance of a class in python.  You include this as your first input in the parenthesies that follow __init__.  "
   ]
  },
  {
   "cell_type": "code",
   "execution_count": 10,
   "id": "34acb9c5",
   "metadata": {},
   "outputs": [],
   "source": [
    "class Hello:\n",
    "    def __init__(self, one, two, three):\n",
    "        self.one=one\n",
    "        self.two=two\n",
    "        self.three=three"
   ]
  },
  {
   "cell_type": "markdown",
   "id": "dbada59d",
   "metadata": {},
   "source": [
    "Breaks are used to end a loop in python.  If your result for a conditional is a break, the code stops running."
   ]
  },
  {
   "cell_type": "code",
   "execution_count": 16,
   "id": "f1b00a29",
   "metadata": {},
   "outputs": [
    {
     "name": "stdout",
     "output_type": "stream",
     "text": [
      "Yes or No?Yes\n",
      "Great!\n",
      "Yes or No?No\n"
     ]
    }
   ],
   "source": [
    "prompt=\"Enter a number\"\n",
    "while True:\n",
    "    one=input(\"Yes or No?\")\n",
    "    if one==\"Yes\":\n",
    "        print(\"Great!\")\n",
    "    else:\n",
    "        break"
   ]
  },
  {
   "cell_type": "markdown",
   "id": "41fca5a1",
   "metadata": {},
   "source": [
    "You can generate random numbers in python by importing random and then using random.randint(Insert your range here)"
   ]
  },
  {
   "cell_type": "code",
   "execution_count": 19,
   "id": "19c5f046",
   "metadata": {},
   "outputs": [
    {
     "data": {
      "text/plain": [
       "66"
      ]
     },
     "execution_count": 19,
     "metadata": {},
     "output_type": "execute_result"
    }
   ],
   "source": [
    "import random \n",
    "x=random.randint(1,100)\n",
    "x"
   ]
  },
  {
   "cell_type": "markdown",
   "id": "5b3bc18c",
   "metadata": {},
   "source": [
    "A dictionary in Python is created using squigglies {} and stores data in a key, value system"
   ]
  },
  {
   "cell_type": "code",
   "execution_count": 22,
   "id": "24ca1d6a",
   "metadata": {},
   "outputs": [],
   "source": [
    "dict={\"one\":1,\n",
    "     \"two\":2,\n",
    "     \"three\":3,\n",
    "     \"four\":4}"
   ]
  },
  {
   "cell_type": "markdown",
   "id": "f16767f7",
   "metadata": {},
   "source": [
    "*args is a way to allow a function to take an infinte amount of arguments. You would use it in situations in which there are many curcumstances in which different quantities of arguments may be needed. "
   ]
  },
  {
   "cell_type": "code",
   "execution_count": 24,
   "id": "b8e7df31",
   "metadata": {},
   "outputs": [
    {
     "name": "stdout",
     "output_type": "stream",
     "text": [
      "30\n"
     ]
    }
   ],
   "source": [
    "def add(*args):\n",
    "    x=sum(args)\n",
    "    print(x)\n",
    "add(4,5,6,7,8)"
   ]
  },
  {
   "cell_type": "markdown",
   "id": "db99cd22",
   "metadata": {},
   "source": [
    "len() is used to identiy how many data points are in whatever it is applied to.  This may be characters of a string or the number of items in a list or tuple. "
   ]
  },
  {
   "cell_type": "code",
   "execution_count": 28,
   "id": "700dda51",
   "metadata": {},
   "outputs": [
    {
     "data": {
      "text/plain": [
       "7"
      ]
     },
     "execution_count": 28,
     "metadata": {},
     "output_type": "execute_result"
    }
   ],
   "source": [
    "one=[4,7,2,6,3,5,10]\n",
    "len(one)"
   ]
  },
  {
   "cell_type": "markdown",
   "id": "8f4aedcb",
   "metadata": {},
   "source": [
    "You can use .append() or .insert() to add values to a list in Python. You can use del, pop, or remove to remove ites from a list in python. "
   ]
  },
  {
   "cell_type": "code",
   "execution_count": 30,
   "id": "2712b624",
   "metadata": {},
   "outputs": [
    {
     "name": "stdout",
     "output_type": "stream",
     "text": [
      "[1, 3, 4, 10, 5, 6, 8]\n"
     ]
    }
   ],
   "source": [
    "list=[1,2,3,4,5,6,7,8]\n",
    "list.append(8)\n",
    "list.insert(4,10)\n",
    "del list[1]\n",
    "list.pop()\n",
    "list.remove(7)\n",
    "print(list)"
   ]
  },
  {
   "cell_type": "code",
   "execution_count": 35,
   "id": "cc573718",
   "metadata": {},
   "outputs": [
    {
     "name": "stdout",
     "output_type": "stream",
     "text": [
      "Enter a number: 5\n"
     ]
    },
    {
     "ename": "TypeError",
     "evalue": "'int' object is not callable",
     "output_type": "error",
     "traceback": [
      "\u001b[1;31m---------------------------------------------------------------------------\u001b[0m",
      "\u001b[1;31mTypeError\u001b[0m                                 Traceback (most recent call last)",
      "Input \u001b[1;32mIn [35]\u001b[0m, in \u001b[0;36m<cell line: 2>\u001b[1;34m()\u001b[0m\n\u001b[0;32m      1\u001b[0m \u001b[38;5;28;01mwhile\u001b[39;00m \u001b[38;5;28;01mTrue\u001b[39;00m:\n\u001b[1;32m----> 2\u001b[0m     num\u001b[38;5;241m=\u001b[39m\u001b[38;5;28;43mint\u001b[39;49m\u001b[43m(\u001b[49m\u001b[38;5;28;43minput\u001b[39;49m\u001b[43m(\u001b[49m\u001b[38;5;124;43m\"\u001b[39;49m\u001b[38;5;124;43mEnter a number: \u001b[39;49m\u001b[38;5;124;43m\"\u001b[39;49m\u001b[43m)\u001b[49m\u001b[43m)\u001b[49m\n\u001b[0;32m      3\u001b[0m     \u001b[38;5;28;01mif\u001b[39;00m num\u001b[38;5;241m.\u001b[39misprime()\u001b[38;5;241m==\u001b[39m\u001b[38;5;28;01mTrue\u001b[39;00m:\n\u001b[0;32m      4\u001b[0m         \u001b[38;5;28mprint\u001b[39m(\u001b[38;5;124m\"\u001b[39m\u001b[38;5;124mThe number is prime\u001b[39m\u001b[38;5;124m\"\u001b[39m)\n",
      "\u001b[1;31mTypeError\u001b[0m: 'int' object is not callable"
     ]
    }
   ],
   "source": [
    "while True:\n",
    "    num=int(input(\"Enter a number: \"))\n",
    "    if num.isprime()==True:\n",
    "        print(\"The number is prime\")\n",
    "    else:\n",
    "        print(\"The number is not prime\")"
   ]
  },
  {
   "cell_type": "markdown",
   "id": "0016f4c6",
   "metadata": {},
   "source": []
  },
  {
   "cell_type": "code",
   "execution_count": 39,
   "id": "ed1bec97",
   "metadata": {},
   "outputs": [
    {
     "name": "stdout",
     "output_type": "stream",
     "text": [
      "Enter a word: hello\n"
     ]
    },
    {
     "ename": "TypeError",
     "evalue": "'str' object is not callable",
     "output_type": "error",
     "traceback": [
      "\u001b[1;31m---------------------------------------------------------------------------\u001b[0m",
      "\u001b[1;31mTypeError\u001b[0m                                 Traceback (most recent call last)",
      "Input \u001b[1;32mIn [39]\u001b[0m, in \u001b[0;36m<cell line: 2>\u001b[1;34m()\u001b[0m\n\u001b[0;32m      1\u001b[0m \u001b[38;5;28;01mwhile\u001b[39;00m \u001b[38;5;28;01mTrue\u001b[39;00m:\n\u001b[1;32m----> 2\u001b[0m     word\u001b[38;5;241m=\u001b[39m\u001b[38;5;28;43mstr\u001b[39;49m\u001b[43m(\u001b[49m\u001b[38;5;28;43minput\u001b[39;49m\u001b[43m(\u001b[49m\u001b[38;5;124;43m\"\u001b[39;49m\u001b[38;5;124;43mEnter a word: \u001b[39;49m\u001b[38;5;124;43m\"\u001b[39;49m\u001b[43m)\u001b[49m\u001b[43m)\u001b[49m\n\u001b[0;32m      3\u001b[0m     word_list\u001b[38;5;241m=\u001b[39m\u001b[38;5;28mlist\u001b[39m(word)\n\u001b[0;32m      4\u001b[0m     \u001b[38;5;28;01mif\u001b[39;00m word_list\u001b[38;5;241m.\u001b[39mreverse()\u001b[38;5;241m==\u001b[39mword_list:\n",
      "\u001b[1;31mTypeError\u001b[0m: 'str' object is not callable"
     ]
    }
   ],
   "source": [
    "while True:\n",
    "    word=str(input(\"Enter a word: \"))\n",
    "    word_list=list(word)\n",
    "    if word_list.reverse()==word_list:\n",
    "        print(\"Your word is a palindrome\")\n",
    "    else:\n",
    "        print(\"Your word is not a palindrome\")"
   ]
  },
  {
   "cell_type": "markdown",
   "id": "2be29ca6",
   "metadata": {},
   "source": [
    "Del is used to remove a specific value from a list by calling a value by its index.  Remove removes a value bye calling on it by the name of the actual value"
   ]
  },
  {
   "cell_type": "code",
   "execution_count": 40,
   "id": "d17d5790",
   "metadata": {},
   "outputs": [
    {
     "name": "stdout",
     "output_type": "stream",
     "text": [
      "['Soccer']\n"
     ]
    }
   ],
   "source": [
    "list4=[\"Baseball\",\"Soccer\",\"Basketball\"]\n",
    "del list4[2]\n",
    "list4.remove(\"Baseball\")\n",
    "print(list4)"
   ]
  },
  {
   "cell_type": "code",
   "execution_count": null,
   "id": "038c1517",
   "metadata": {},
   "outputs": [],
   "source": []
  }
 ],
 "metadata": {
  "kernelspec": {
   "display_name": "Python 3 (ipykernel)",
   "language": "python",
   "name": "python3"
  },
  "language_info": {
   "codemirror_mode": {
    "name": "ipython",
    "version": 3
   },
   "file_extension": ".py",
   "mimetype": "text/x-python",
   "name": "python",
   "nbconvert_exporter": "python",
   "pygments_lexer": "ipython3",
   "version": "3.9.12"
  }
 },
 "nbformat": 4,
 "nbformat_minor": 5
}
